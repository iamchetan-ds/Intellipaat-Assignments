{
 "cells": [
  {
   "cell_type": "markdown",
   "id": "d432dbe5",
   "metadata": {},
   "source": [
    "### Problem Statement:  \n",
    "You work in XYZ Corporation as a Data Analyst. Your company has told you to work with the If- Else Conditions.  \n",
    "#### Tasks to be performed: \n",
    "1. Create an array that is having user defined inputs and with the help of for loop, fetch all the prime numbers and print the numbers. "
   ]
  },
  {
   "cell_type": "code",
   "execution_count": 18,
   "id": "11433515",
   "metadata": {},
   "outputs": [
    {
     "name": "stdout",
     "output_type": "stream",
     "text": [
      "Do you want to add a value to array y/n :n\n",
      "array =  []\n"
     ]
    }
   ],
   "source": [
    "# creating an empty array\n",
    "arr = []\n",
    "\n",
    "# user defined inputs for the values of array\n",
    "perm = input('Do you want to add a value to array y/n :').capitalize()\n",
    "\n",
    "while True:\n",
    "        \n",
    "    if perm == 'Y' :\n",
    "        val = input(\"Enter an integer value or 'N' to exit :\")\n",
    "        if val == 'N'or val == 'n':\n",
    "            break\n",
    "        else:\n",
    "            arr.append(int(val))\n",
    "            continue\n",
    "    else :\n",
    "        break\n",
    "    \n",
    "        \n",
    "print('array = ',arr)\n",
    "\n",
    "# fetching the prime numbers\n",
    "for i in range(len(arr)):\n",
    "    if arr[i] > 1:\n",
    "        for j in range(2, arr[i]):\n",
    "            if arr[i] % j == 0 :\n",
    "                break\n",
    "        else :\n",
    "            print(arr[i], 'is a prime number')\n",
    "    else:\n",
    "        i += 1\n",
    "        continue\n",
    "        "
   ]
  },
  {
   "cell_type": "code",
   "execution_count": null,
   "id": "b3e3e88c",
   "metadata": {},
   "outputs": [],
   "source": []
  },
  {
   "cell_type": "code",
   "execution_count": null,
   "id": "68abfaf4",
   "metadata": {},
   "outputs": [],
   "source": []
  }
 ],
 "metadata": {
  "kernelspec": {
   "display_name": "Python 3 (ipykernel)",
   "language": "python",
   "name": "python3"
  },
  "language_info": {
   "codemirror_mode": {
    "name": "ipython",
    "version": 3
   },
   "file_extension": ".py",
   "mimetype": "text/x-python",
   "name": "python",
   "nbconvert_exporter": "python",
   "pygments_lexer": "ipython3",
   "version": "3.9.13"
  }
 },
 "nbformat": 4,
 "nbformat_minor": 5
}
