{
 "cells": [
  {
   "cell_type": "markdown",
   "id": "480d6199",
   "metadata": {},
   "source": [
    "### Problem Statement:\n",
    "You work in XYZ Corporation as a Data Analyst. Your company has told you to work with the IfElse Conditions.\n",
    "#### Tasks to be performed:\n",
    "1. Take three user inputs and print the greatest number from those inputs using if-else\n",
    "condition. Edge cases if any, should also be handled."
   ]
  },
  {
   "cell_type": "code",
   "execution_count": 15,
   "id": "b8b529e8",
   "metadata": {},
   "outputs": [
    {
     "name": "stdout",
     "output_type": "stream",
     "text": [
      "Enter first number : 7\n",
      "Enter second number : 9\n",
      "Enter third number : 8\n",
      "Greatest number is :  9.0\n"
     ]
    }
   ],
   "source": [
    "## User input for three numbers\n",
    "a = float(input('Enter first number : '))\n",
    "b = float(input('Enter second number : '))\n",
    "c = float(input('Enter third number : '))\n",
    "\n",
    "## Comparison of three numbers\n",
    "\n",
    "if a >= b and b >= c :\n",
    "    print('Greatest number is : ', a)\n",
    "elif a < b and c < b :\n",
    "    print('Greatest number is : ', b)\n",
    "else :\n",
    "    print('Greatest number is : ', c)\n",
    "\n",
    "    "
   ]
  },
  {
   "cell_type": "code",
   "execution_count": null,
   "id": "dceacc3b",
   "metadata": {},
   "outputs": [],
   "source": []
  }
 ],
 "metadata": {
  "kernelspec": {
   "display_name": "Python 3 (ipykernel)",
   "language": "python",
   "name": "python3"
  },
  "language_info": {
   "codemirror_mode": {
    "name": "ipython",
    "version": 3
   },
   "file_extension": ".py",
   "mimetype": "text/x-python",
   "name": "python",
   "nbconvert_exporter": "python",
   "pygments_lexer": "ipython3",
   "version": "3.9.13"
  }
 },
 "nbformat": 4,
 "nbformat_minor": 5
}
