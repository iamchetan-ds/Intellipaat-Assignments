{
 "cells": [
  {
   "cell_type": "markdown",
   "id": "e5946b78",
   "metadata": {},
   "source": [
    "### Problem Statement:\n",
    "Consider yourself to be Sam who is a data scientist. He has been invited as a guest lecturer at a college\n",
    "to take an introductory session on Python.\n",
    "#### Tasks to be performed:\n",
    "1. Create a list containing squares of numbers from 1 to 10 (HINT: use List Comprehension).\n",
    "2. Write a Function to check if year number is a leap year.\n",
    "3. Write a Function to take an array and return another array that contains the members of first\n",
    "array that are even.\n",
    "4. Write a Function that takes 2 arrays and prints the members of first array that are present of\n",
    "second array. (HINT: use Membership Comprehension)"
   ]
  },
  {
   "cell_type": "code",
   "execution_count": 2,
   "id": "66829350",
   "metadata": {},
   "outputs": [
    {
     "data": {
      "text/plain": [
       "[1, 4, 9, 16, 25, 36, 49, 64, 81, 100]"
      ]
     },
     "execution_count": 2,
     "metadata": {},
     "output_type": "execute_result"
    }
   ],
   "source": [
    "##  list containing squares of numbers from 1 to 10 \n",
    "sq = [i*i for i in range(1,11)]\n",
    "sq"
   ]
  },
  {
   "cell_type": "code",
   "execution_count": 4,
   "id": "4fb70a8f",
   "metadata": {},
   "outputs": [
    {
     "name": "stdout",
     "output_type": "stream",
     "text": [
      "True\n"
     ]
    }
   ],
   "source": [
    "##  a Function to check if year number is a leap year.\n",
    "\n",
    "def isLeapYear(year):\n",
    "    if ((year % 4 == 0) and (year % 100 != 0)) or (year % 400 == 0):\n",
    "        return True\n",
    "    else: \n",
    "        return False\n",
    "\n",
    "print(isLeapYear(1940))\n",
    "    "
   ]
  },
  {
   "cell_type": "code",
   "execution_count": 8,
   "id": "3c864dd0",
   "metadata": {},
   "outputs": [
    {
     "data": {
      "text/plain": [
       "[2, 4, 6, 8, 10]"
      ]
     },
     "execution_count": 8,
     "metadata": {},
     "output_type": "execute_result"
    }
   ],
   "source": [
    "## a Function to take an array and return another array that contains the members of first array that are even.\n",
    "\n",
    "def evenArr(arr):\n",
    "    even = []\n",
    "    for i in range(len(arr)):\n",
    "        if arr[i] % 2 == 0:\n",
    "            even.append(arr[i])\n",
    "            continue\n",
    "            \n",
    "    return even\n",
    "\n",
    "a = [1,2,3,4,5,6,7,8,9,10]\n",
    "\n",
    "evenArr(a)"
   ]
  },
  {
   "cell_type": "code",
   "execution_count": null,
   "id": "af7ec398",
   "metadata": {},
   "outputs": [],
   "source": [
    "## a Function that takes 2 arrays and prints the members of first array that are present of second array\n",
    "\n",
    "def members(arr1, arr2):\n",
    "   "
   ]
  }
 ],
 "metadata": {
  "kernelspec": {
   "display_name": "Python 3 (ipykernel)",
   "language": "python",
   "name": "python3"
  },
  "language_info": {
   "codemirror_mode": {
    "name": "ipython",
    "version": 3
   },
   "file_extension": ".py",
   "mimetype": "text/x-python",
   "name": "python",
   "nbconvert_exporter": "python",
   "pygments_lexer": "ipython3",
   "version": "3.9.13"
  }
 },
 "nbformat": 4,
 "nbformat_minor": 5
}
