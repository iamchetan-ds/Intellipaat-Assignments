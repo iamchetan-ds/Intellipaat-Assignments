{
 "cells": [
  {
   "cell_type": "markdown",
   "id": "52bd0f83",
   "metadata": {},
   "source": [
    "### Problem Statement:\n",
    "You work in XYZ Corporation as a Data Analyst. Your company has told you to work with the IfElse Conditions.\n",
    "#### Tasks to be performed:\n",
    "1. Input the values of a and b as 10 and 20 respectively. Now check if a is greater or b is greater\n",
    "using if condition. Think about all the edge cases, and print the statements accordingly."
   ]
  },
  {
   "cell_type": "code",
   "execution_count": 4,
   "id": "beabf5c5",
   "metadata": {},
   "outputs": [
    {
     "name": "stdout",
     "output_type": "stream",
     "text": [
      "Enter first number : 2.2\n",
      "Enter Second number : 2.2\n",
      "Both the numbers 2.2 & 2.2 are equal\n"
     ]
    }
   ],
   "source": [
    "## Input any numbers for the comparisons\n",
    "\n",
    "a = float(input('Enter first number : '))\n",
    "b = float(input('Enter Second number : '))\n",
    "\n",
    "## Comparison of two numbers\n",
    "\n",
    "if a == b:\n",
    "    print('Both the numbers', a, '&', b, 'are equal')\n",
    "elif a < b :\n",
    "    print (a, 'is less than ', b)\n",
    "else:\n",
    "    print(a, 'is greater than', b)\n"
   ]
  },
  {
   "cell_type": "code",
   "execution_count": null,
   "id": "7776a94e",
   "metadata": {},
   "outputs": [],
   "source": []
  }
 ],
 "metadata": {
  "kernelspec": {
   "display_name": "Python 3 (ipykernel)",
   "language": "python",
   "name": "python3"
  },
  "language_info": {
   "codemirror_mode": {
    "name": "ipython",
    "version": 3
   },
   "file_extension": ".py",
   "mimetype": "text/x-python",
   "name": "python",
   "nbconvert_exporter": "python",
   "pygments_lexer": "ipython3",
   "version": "3.9.13"
  }
 },
 "nbformat": 4,
 "nbformat_minor": 5
}
