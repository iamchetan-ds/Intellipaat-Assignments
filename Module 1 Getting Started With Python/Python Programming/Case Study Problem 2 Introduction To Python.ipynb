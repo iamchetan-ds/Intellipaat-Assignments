{
 "cells": [
  {
   "cell_type": "markdown",
   "id": "b9bf6e88",
   "metadata": {},
   "source": [
    "### Problem Statement:\n",
    "Consider yourself to be Sam who is a data scientist. He has been invited as a guest lecturer at a college\n",
    "to take an introductory session on Python.\n",
    "### Tasks to be performed:\n",
    "##### 1) Create 1st tuple with values -> (10,20,30), 2nd tuple with values -> (40,50,60).\n",
    "* Concatenate the two tuples and store it in “t_combine”\n",
    "* Repeat the elements of “t_combine” 3 times\n",
    "* Access the 3rd element from “t_combine”\n",
    "* Access the first three elements from “t_combine”\n",
    "* Access the last three elements from “t_combine”\n",
    "\n",
    "##### 2) Create a list ‘my_list’ with these elements:\n",
    "- First element is a tuple with values 1,2,3\n",
    "- Second element is a tuple with values “a”,”b”,”c”\n",
    "- Third element is a tuple with values True,False \n",
    "\n",
    "##### 3) Append a new tuple – (1,’a’,True) to ‘my_list’\n",
    "- Append a new list – [“sparta”,123] to my_list \n",
    "\n",
    "##### 4) Create a dictionary ‘fruit’ where:\n",
    "- The first key is ‘Fruit’ and the values are (“Apple”,”Banana”,”Mango”,”Guava”)\n",
    "- The second key is ‘Cost’ and the values are (85,54,120,70)\n",
    "- Extract all the keys from ‘fruit’\n",
    "- Extract all the values from ‘fruit’\n",
    "\n",
    "##### 5) Crete a set named ‘my_set’ with values (1,1,”a”,”a”,True,True) and print the result "
   ]
  },
  {
   "cell_type": "code",
   "execution_count": 11,
   "id": "ed52b57f",
   "metadata": {},
   "outputs": [
    {
     "name": "stdout",
     "output_type": "stream",
     "text": [
      "Concatenation of tuple1 and tuple2 in t_combine : (10, 20, 30, 40, 50, 60)\n",
      "t_combine repeated 3 times : (10, 20, 30, 40, 50, 60, 10, 20, 30, 40, 50, 60, 10, 20, 30, 40, 50, 60)\n",
      "3rd element of t_combine : 30\n",
      "First 3 elements of t_combine : (10, 20, 30)\n",
      "Last 3 elements of t_combine : (40, 50, 60)\n"
     ]
    }
   ],
   "source": [
    "## 1)Create 1st tuple with values -> (10,20,30), 2nd tuple with values -> (40,50,60).\n",
    "\n",
    "tuple1 = (10,20,30)\n",
    "tuple2 = (40,50,60)\n",
    "\n",
    "#Concatenate the two tuples and store it in “t_combine”\n",
    "\n",
    "t_combine = tuple1+tuple2\n",
    "print('Concatenation of tuple1 and tuple2 in t_combine :', t_combine)\n",
    "\n",
    "#Repeat the elements of “t_combine” 3 times\n",
    "print('t_combine repeated 3 times :', t_combine*3)\n",
    "\n",
    "#Access the 3rd element from “t_combine”\n",
    "print('3rd element of t_combine :', t_combine[2])\n",
    "\n",
    "#Access the first three elements from “t_combine”\n",
    "print('First 3 elements of t_combine :', t_combine[:3])\n",
    "\n",
    "#Access the last three elements from “t_combine\n",
    "print('Last 3 elements of t_combine :', t_combine[-3:])"
   ]
  },
  {
   "cell_type": "code",
   "execution_count": 12,
   "id": "c7000cc7",
   "metadata": {},
   "outputs": [
    {
     "name": "stdout",
     "output_type": "stream",
     "text": [
      "[(1, 2, 3), ('a', 'b', 'c'), (True, False)]\n"
     ]
    }
   ],
   "source": [
    "##Create a list ‘my_list’ with these elements\n",
    "#First element is a tuple with values 1,2,3\n",
    "#Second element is a tuple with values “a”,”b”,”c”\n",
    "#Third element is a tuple with values True,False\n",
    "\n",
    "mylist = [(1,2,3), ('a','b','c'), (True, False)]\n",
    "print(mylist)"
   ]
  },
  {
   "cell_type": "code",
   "execution_count": 14,
   "id": "a75a7a16",
   "metadata": {},
   "outputs": [
    {
     "name": "stdout",
     "output_type": "stream",
     "text": [
      "Appended mylist : [(1, 2, 3), ('a', 'b', 'c'), (True, False), (1, 'a', True), (1, 'a', True)]\n",
      "mylist : [(1, 2, 3), ('a', 'b', 'c'), (True, False), (1, 'a', True), (1, 'a', True), ['sparta', 123]]\n"
     ]
    }
   ],
   "source": [
    "##Append a new tuple – (1,’a’,True) to ‘my_list’\n",
    "\n",
    "new_tuple = (1,'a',True)\n",
    "mylist.append(new_tuple)\n",
    "print('Appended mylist :', mylist)\n",
    "\n",
    "#Append a new list – [“sparta”,123] to my_list\n",
    "mylist.append([\"sparta\", 123])\n",
    "print('mylist :', mylist)"
   ]
  },
  {
   "cell_type": "code",
   "execution_count": 17,
   "id": "bc84bb1d",
   "metadata": {},
   "outputs": [
    {
     "name": "stdout",
     "output_type": "stream",
     "text": [
      "fruit dictionary : {'Fruit': ['Apple', 'Banana', 'Mango', 'Guava'], 'Cost': [85, 54, 120, 70]}\n",
      "keys from fruit dictionary : dict_keys(['Fruit', 'Cost'])\n",
      "Values of the keys from fruit dictionary : dict_values([['Apple', 'Banana', 'Mango', 'Guava'], [85, 54, 120, 70]])\n"
     ]
    }
   ],
   "source": [
    "## Create a dictionary ‘fruit’ where:\n",
    "\n",
    "fruit ={}\n",
    "\n",
    "#The first key is ‘Fruit’ and the values are (“Apple”,”Banana”,”Mango”,”Guava”)\n",
    "\n",
    "fruit['Fruit'] = ['Apple', 'Banana', 'Mango', 'Guava']\n",
    "\n",
    "#The second key is ‘Cost’ and the values are (85,54,120,70)\n",
    "\n",
    "fruit['Cost'] = [85,54,120,70]\n",
    "print('fruit dictionary :', fruit)\n",
    "\n",
    "#Extract all the keys from ‘fruit’\n",
    "print('keys from fruit dictionary :', fruit.keys())\n",
    "\n",
    "#Extract all the values from ‘fruit’\n",
    "print('Values of the keys from fruit dictionary :', fruit.values())"
   ]
  },
  {
   "cell_type": "code",
   "execution_count": 18,
   "id": "1409bf2b",
   "metadata": {},
   "outputs": [
    {
     "name": "stdout",
     "output_type": "stream",
     "text": [
      "{1, 'a'}\n"
     ]
    }
   ],
   "source": [
    "##Crete a set named ‘my_set’ with values (1,1,”a”,”a”,True,True) and print the result\n",
    "\n",
    "my_set = {1,1,'a','a',True,True}\n",
    "print(my_set)"
   ]
  }
 ],
 "metadata": {
  "kernelspec": {
   "display_name": "Python 3 (ipykernel)",
   "language": "python",
   "name": "python3"
  },
  "language_info": {
   "codemirror_mode": {
    "name": "ipython",
    "version": 3
   },
   "file_extension": ".py",
   "mimetype": "text/x-python",
   "name": "python",
   "nbconvert_exporter": "python",
   "pygments_lexer": "ipython3",
   "version": "3.9.13"
  }
 },
 "nbformat": 4,
 "nbformat_minor": 5
}
