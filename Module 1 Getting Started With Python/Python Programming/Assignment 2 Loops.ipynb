{
 "cells": [
  {
   "cell_type": "markdown",
   "id": "f01fff44",
   "metadata": {},
   "source": [
    "### Problem Statement:\n",
    "You work in XYZ Corporation as a Data Analyst. Your company has told you to work with the IfElse Conditions.\n",
    "#### Tasks to be performed:\n",
    "1. Create a list that is having 10,23,4,26,4,75,24,54 values and with the help of while loop, fetch\n",
    "the even numbers and print the numbers."
   ]
  },
  {
   "cell_type": "code",
   "execution_count": 5,
   "id": "adc0b873",
   "metadata": {},
   "outputs": [
    {
     "name": "stdout",
     "output_type": "stream",
     "text": [
      "10\n",
      "4\n",
      "26\n",
      "4\n",
      "24\n",
      "54\n"
     ]
    }
   ],
   "source": [
    "## list of numbers\n",
    "\n",
    "num = [10,23,4,26,4,75,24,54]\n",
    "\n",
    "counter = 0\n",
    "\n",
    "while counter < len(num):\n",
    "    if num[counter] % 2 == 0:    # fetch the even number\n",
    "        print(num[counter])\n",
    "        counter += 1\n",
    "    else: \n",
    "        counter += 1\n",
    "        continue\n",
    "    "
   ]
  },
  {
   "cell_type": "code",
   "execution_count": null,
   "id": "6f67062a",
   "metadata": {},
   "outputs": [],
   "source": []
  }
 ],
 "metadata": {
  "kernelspec": {
   "display_name": "Python 3 (ipykernel)",
   "language": "python",
   "name": "python3"
  },
  "language_info": {
   "codemirror_mode": {
    "name": "ipython",
    "version": 3
   },
   "file_extension": ".py",
   "mimetype": "text/x-python",
   "name": "python",
   "nbconvert_exporter": "python",
   "pygments_lexer": "ipython3",
   "version": "3.9.13"
  }
 },
 "nbformat": 4,
 "nbformat_minor": 5
}
