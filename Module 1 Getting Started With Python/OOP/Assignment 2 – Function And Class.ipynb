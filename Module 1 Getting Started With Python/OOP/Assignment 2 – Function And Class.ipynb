{
 "cells": [
  {
   "cell_type": "markdown",
   "id": "5a2b8a33",
   "metadata": {},
   "source": [
    "### Problem Statement:\n",
    "You work in XYZ Corporation as a Data Analyst. Your corporation has told you to work on\n",
    "functions and classes.\n",
    "#### Tasks to be performed:\n",
    "1. Create a function named ‘factor’ that can only accepts 1 argument. The function should return the factorial of that number.\n",
    "2. Create a function named ‘check_string’, the function should accept a string data from the user and the function should check if the user input contains the letter ‘s’ in it. If it contains the letter ‘s’ then print- ‘The string is containing the letter ‘s’’, if not then print- ‘The string doesn’t contain the letter ‘s’’.\n",
    "3. Create a class named ‘student’ and inside the class, create a function named ‘fun1’- this method should accepts the user defined input and return that value.</br>\n",
    "* a. Create another method named- message() and that method should print the user defined input that we have defined in ‘fun1’.\n",
    "4. Create a lambda function that should double or multiply the number (that we will be passing in the lambda function) by 2. Store the lambda function in a variable named ‘double_num’.\n",
    "5. Take user input string and check whether that string is palindrome or not."
   ]
  },
  {
   "cell_type": "code",
   "execution_count": 2,
   "id": "d38ae40c",
   "metadata": {},
   "outputs": [],
   "source": [
    "#Create a function named ‘factor’ that can only accepts 1 argument. The function should return the factorial of that number.\n",
    "\n",
    "def factor(num):\n",
    "    \n",
    "    if num <=0:\n",
    "        print('Please provide positive integer value to compute factorial')\n",
    "    elif num == 1:\n",
    "        return 1\n",
    "    else:\n",
    "        return num *factor(num-1)"
   ]
  },
  {
   "cell_type": "code",
   "execution_count": 4,
   "id": "ddbedfca",
   "metadata": {},
   "outputs": [
    {
     "data": {
      "text/plain": [
       "120"
      ]
     },
     "execution_count": 4,
     "metadata": {},
     "output_type": "execute_result"
    }
   ],
   "source": [
    "factor(5)"
   ]
  },
  {
   "cell_type": "code",
   "execution_count": 16,
   "id": "c519b30d",
   "metadata": {},
   "outputs": [],
   "source": [
    "## Create a function named ‘check_string’, \n",
    "\n",
    "def check_string():\n",
    "    \n",
    "    # the function should accept a string data from the user\n",
    "    data = input('Enter your string here :')\n",
    "    \n",
    "    # and the function should check if the user input contains the letter ‘s’ in it.\n",
    "    # If it contains the letter ‘s’ then print- ‘The string is containing the letter ‘s’’,\n",
    "    # if not then print- ‘The string doesn’t contain the letter ‘s’’.\n",
    "    for letter in data:\n",
    "        if letter == 's':\n",
    "            print(\"The string is containing the letter 's'\" )\n",
    "            break\n",
    "    else:\n",
    "        print(\"The string doesn't contain letter 's'\")\n",
    "            \n",
    "         "
   ]
  },
  {
   "cell_type": "code",
   "execution_count": 17,
   "id": "44578bce",
   "metadata": {},
   "outputs": [
    {
     "name": "stdout",
     "output_type": "stream",
     "text": [
      "Enter your string here :This is a string\n",
      "The string is containing the letter 's'\n"
     ]
    }
   ],
   "source": [
    "check_string()"
   ]
  },
  {
   "cell_type": "code",
   "execution_count": 18,
   "id": "7a9c7c7c",
   "metadata": {},
   "outputs": [
    {
     "name": "stdout",
     "output_type": "stream",
     "text": [
      "Enter your string here :my name\n",
      "The string doesn't contain letter 's'\n"
     ]
    }
   ],
   "source": [
    "check_string()"
   ]
  },
  {
   "cell_type": "code",
   "execution_count": 22,
   "id": "42f7326a",
   "metadata": {},
   "outputs": [],
   "source": [
    "## Create a class named ‘student’ and inside the class,\n",
    "\n",
    "class student:\n",
    "    \n",
    "    #create a function named ‘fun1’- this method should accepts the user defined input and return that value.\n",
    "    def fun1(self):\n",
    "        self.first_name = input('Enter your first name : ')\n",
    "        self.last_name = input('Enter your last name : ')\n",
    "        return (self.first_name, self.last_name)\n",
    "        \n",
    "    #Create another method named- message() and that method should print the user defined input that we have defined in ‘fun1’.\n",
    "    def message(self):\n",
    "        print(self.first_name, self.last_name)\n"
   ]
  },
  {
   "cell_type": "code",
   "execution_count": 23,
   "id": "74a8865e",
   "metadata": {},
   "outputs": [
    {
     "name": "stdout",
     "output_type": "stream",
     "text": [
      "Enter your first name : John\n",
      "Enter your last name : Smith\n"
     ]
    },
    {
     "data": {
      "text/plain": [
       "('John', 'Smith')"
      ]
     },
     "execution_count": 23,
     "metadata": {},
     "output_type": "execute_result"
    }
   ],
   "source": [
    "s = student()\n",
    "s.fun1()"
   ]
  },
  {
   "cell_type": "code",
   "execution_count": 24,
   "id": "10b23b39",
   "metadata": {},
   "outputs": [
    {
     "name": "stdout",
     "output_type": "stream",
     "text": [
      "John Smith\n"
     ]
    }
   ],
   "source": [
    "s.message()"
   ]
  },
  {
   "cell_type": "code",
   "execution_count": 5,
   "id": "d858b4cd",
   "metadata": {},
   "outputs": [
    {
     "data": {
      "text/plain": [
       "8"
      ]
     },
     "execution_count": 5,
     "metadata": {},
     "output_type": "execute_result"
    }
   ],
   "source": [
    "#Create a lambda function that should double or multiply the number (that we will be passing in the lambda function) by 2. \n",
    "#Store the lambda function in a variable named ‘double_num’.\n",
    "\n",
    "double_num = lambda x : x*2\n",
    "double_num(4)"
   ]
  },
  {
   "cell_type": "code",
   "execution_count": null,
   "id": "4311ce5c",
   "metadata": {},
   "outputs": [],
   "source": [
    "#Take user input string and check whether that string is palindrome or not.\n",
    "\n",
    "def is_palindrome():\n",
    "    \n",
    "    val = input('Enter your string to check palindrome : ')\n",
    "    \n",
    "    if len(val) == 1:\n",
    "        return True\n",
    "    elif val[0] == val[-1]:\n",
    "        \n",
    "    \n",
    "    \n",
    "    \n"
   ]
  }
 ],
 "metadata": {
  "kernelspec": {
   "display_name": "Python 3 (ipykernel)",
   "language": "python",
   "name": "python3"
  },
  "language_info": {
   "codemirror_mode": {
    "name": "ipython",
    "version": 3
   },
   "file_extension": ".py",
   "mimetype": "text/x-python",
   "name": "python",
   "nbconvert_exporter": "python",
   "pygments_lexer": "ipython3",
   "version": "3.9.13"
  }
 },
 "nbformat": 4,
 "nbformat_minor": 5
}
