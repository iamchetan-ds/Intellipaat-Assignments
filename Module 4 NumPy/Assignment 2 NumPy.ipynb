{
 "cells": [
  {
   "cell_type": "markdown",
   "id": "de971a61",
   "metadata": {},
   "source": [
    "## Problem Statement:\n",
    "You work in XYZ Corporation as a Data Analyst. Your corporation has told you to\n",
    "use the NumPy package and do some tasks related to that.\n",
    "\n",
    "1. Create a 3x3 matrix array with values ranging from 2 to 10\n",
    "2. Create a NumPy array having user input values and convert the integer type to the float type of the elements of the array. For instance: Original array [1, 2, 3, 4] Array converted to a float type: [ 1., 2.,3.,4.]\n",
    "3. Write a NumPy program to append values to the end of an array. For instance: Original array: [10, 20, 30] . After that, append values to the end of the array: [10 20 30 40 50 60 70 80 90]\n",
    "4. Create two NumPy arrays and add the elements of both the arrays and store the result in sumArray.\n",
    "- Perform the following tasks:\n",
    "  * Extract the 1st row from the array\n",
    "  * Extract the last element from the array\n"
   ]
  },
  {
   "cell_type": "code",
   "execution_count": 2,
   "id": "5f731bf0",
   "metadata": {},
   "outputs": [],
   "source": [
    "import numpy as np"
   ]
  },
  {
   "cell_type": "code",
   "execution_count": 5,
   "id": "130162bc",
   "metadata": {},
   "outputs": [
    {
     "name": "stdout",
     "output_type": "stream",
     "text": [
      "A 3x3 matrix array with values ranging from 2 to 10: \n",
      "\n",
      " [[5 6 7]\n",
      " [8 7 7]\n",
      " [4 2 6]]\n"
     ]
    }
   ],
   "source": [
    "##Create a 3x3 matrix array with values ranging from 2 to 10\n",
    "\n",
    "mat = np.random.randint(low =2, high=10, size=(3,3))\n",
    "print('A 3x3 matrix array with values ranging from 2 to 10: ')\n",
    "print('\\n',mat)"
   ]
  },
  {
   "cell_type": "code",
   "execution_count": 9,
   "id": "457d9f07",
   "metadata": {},
   "outputs": [
    {
     "name": "stdout",
     "output_type": "stream",
     "text": [
      "Enter the desired no of elements for array: 4\n",
      "Enter element: 1\n",
      "Enter element: 2\n",
      "Enter element: 3\n",
      "Enter element: 4\n",
      "User Input:  [1, 2, 3, 4]\n",
      "Numpy Array:  [1. 2. 3. 4.]\n"
     ]
    }
   ],
   "source": [
    "##Create a NumPy array having user input values \n",
    "#and convert the integer type to the float type of the elements of the array. \n",
    "#For instance: Original array [1, 2, 3, 4] Array converted to a float type: [ 1., 2.,3.,4.]\n",
    "\n",
    "no_elements = int(input('Enter the desired no of elements for array: '))\n",
    "arr = []\n",
    "\n",
    "for i in range(no_elements):\n",
    "    element = int(input('Enter element: '))\n",
    "    arr.append(element)\n",
    "    \n",
    "array = np.array(arr, dtype = float)\n",
    "print(\"User Input: \", arr)\n",
    "print(\"Numpy Array: \", array)"
   ]
  },
  {
   "cell_type": "code",
   "execution_count": 27,
   "id": "a9ca3e5b",
   "metadata": {},
   "outputs": [
    {
     "name": "stdout",
     "output_type": "stream",
     "text": [
      "[10 20 30 40]\n"
     ]
    }
   ],
   "source": [
    "## Write a NumPy program to append values to the end of an array. \n",
    "#For instance: Original array: [10, 20, 30] .\n",
    "#After that, append values to the end of the array: [10 20 30 40 50 60 70 80 90]\n",
    "\n",
    "def append_last(arr1,arr2):\n",
    "    \"\"\"\n",
    "    appends the elements of arr2 to arr1\n",
    "    \"\"\"\n",
    "    arr1 = np.append(arr1,arr2)\n",
    "    \n",
    "    return arr1\n",
    "\n",
    "arr1 = [10, 20, 30]\n",
    "arr2 = [40]\n",
    "arr3 = [50,60,70,80,90]\n",
    "print(append_last(arr1, arr2))  \n"
   ]
  },
  {
   "cell_type": "code",
   "execution_count": 30,
   "id": "8808e7f1",
   "metadata": {},
   "outputs": [
    {
     "name": "stdout",
     "output_type": "stream",
     "text": [
      "Sum Array:  [ 60  80 100 120]\n"
     ]
    }
   ],
   "source": [
    "#Create two NumPy arrays and add the elements of both the arrays and store the result in sumArray.\n",
    "\n",
    "arr1 = np.array([10,20,30,40])\n",
    "arr2 = np.array([50,60,70,80])\n",
    "\n",
    "sumArray = np.add(arr1, arr2)\n",
    "print('Sum Array: ', sumArray)"
   ]
  },
  {
   "cell_type": "code",
   "execution_count": 47,
   "id": "43ab9598",
   "metadata": {},
   "outputs": [
    {
     "name": "stdout",
     "output_type": "stream",
     "text": [
      "A 3x3 array having values from 10-90:\n",
      "\n",
      " [[10 20 30]\n",
      " [40 50 60]\n",
      " [70 80 90]]\n"
     ]
    }
   ],
   "source": [
    "# Create a 3x3 array having values from 10-90 (interval of 10) and store that in array1\n",
    "\n",
    "array1 = np.arange(10,100,10).reshape((3,3))\n",
    "print('A 3x3 array having values from 10-90:')\n",
    "print('\\n', array1)"
   ]
  },
  {
   "cell_type": "code",
   "execution_count": 53,
   "id": "2977198d",
   "metadata": {},
   "outputs": [
    {
     "name": "stdout",
     "output_type": "stream",
     "text": [
      "First Row:  [10 20 30]\n",
      "Last Element:  [[90]]\n"
     ]
    }
   ],
   "source": [
    "##Perform the following tasks:\n",
    "# a. Extract the 1st row from the array\n",
    "print('First Row: ', array1[0])\n",
    "# b. Extract the last element from the array\n",
    "print('Last Element: ', array1[2:,2:3])"
   ]
  },
  {
   "cell_type": "code",
   "execution_count": null,
   "id": "8f0559aa",
   "metadata": {},
   "outputs": [],
   "source": []
  },
  {
   "cell_type": "code",
   "execution_count": null,
   "id": "de23cab8",
   "metadata": {},
   "outputs": [],
   "source": []
  }
 ],
 "metadata": {
  "kernelspec": {
   "display_name": "Python 3 (ipykernel)",
   "language": "python",
   "name": "python3"
  },
  "language_info": {
   "codemirror_mode": {
    "name": "ipython",
    "version": 3
   },
   "file_extension": ".py",
   "mimetype": "text/x-python",
   "name": "python",
   "nbconvert_exporter": "python",
   "pygments_lexer": "ipython3",
   "version": "3.9.13"
  }
 },
 "nbformat": 4,
 "nbformat_minor": 5
}
