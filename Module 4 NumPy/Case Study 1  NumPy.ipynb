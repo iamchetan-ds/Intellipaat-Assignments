{
 "cells": [
  {
   "cell_type": "markdown",
   "id": "2b5be3e1",
   "metadata": {},
   "source": [
    "## Problem Statement:\n",
    "\n",
    "You work in XYZ Company as a Python developer. The company officials want\n",
    "you to build a Python program.\n",
    "\n",
    "1. Create a function that takes dimensions as tuples e.g. (3, 3) and a numeric value and returns a NumPy array of the given dimension filled with the given value e.g.: solve((3, 3), 5) will return<br>\n",
    "<p> [<br>\n",
    "[5, 5, 5],<br>\n",
    "[5, 5, 5],<br>\n",
    "[5, 5, 5],<br>\n",
    "]<br></p>\n",
    "\n",
    "2. Create a method that takes n NumPy arrays of the same dimensions, sums them and returns the answer.\n",
    "\n",
    "3. Given a 2 D Array of N X M Dimension, write a function that accepts this array as well as two numbers N and M. The method should return the top-left N X M sub matrix e.g<br>\n",
    "<p> [<br>\n",
    "[1, 2, 3],<br>\n",
    "[4, 5, 6],<br>\n",
    "[7, 8, 9],<br>\n",
    "]<br></p>\n",
    "\n",
    "- top_left_sub_matrix(matrix, 2, 2) -> should return: <br>\n",
    "<p> [<br>\n",
    "[1, 2]<br>\n",
    "[4, 5]<br>\n",
    "]<br></p>\n",
    "\n",
    "4. Given a 2 D Array of N X M Dimension, write a function that accepts this array as well as two numbers N and M. The method should return the bottom-right N X M sub matrix, e.g:<br>\n",
    "<p> [<br>\n",
    "[1, 2, 3],<br>\n",
    "[4, 5, 6],<br>\n",
    "[7, 8, 9],<br>\n",
    "]<br></p>\n",
    "\n",
    "- sub_matrix(matrix, 1, 1) -> should return : (Keep in mind these arrays are zero indexed)<br>\n",
    "<p> [<br>\n",
    "[5, 6]<br>\n",
    "[8, 9]<br>\n",
    "]<br></p>\n",
    "\n",
    "5. Given a 1 D NumPy Array. Write a function that accepts this array as parameters. The method should return a dictionary with 'mean' and 'std_dev' as key and array's mean and array's standard deviation as values:<br>\n",
    "<p> [1,1,1]<br></p>\n",
    "\n",
    "- solution(arr) --> should return :<br>\n",
    "<p> {'mean' : 1.0, 'std_dev' : 0.0}\n",
    "\n",
    "\n",
    "\n"
   ]
  },
  {
   "cell_type": "code",
   "execution_count": 1,
   "id": "71a4078a",
   "metadata": {},
   "outputs": [],
   "source": [
    "import numpy as np"
   ]
  },
  {
   "cell_type": "code",
   "execution_count": 3,
   "id": "f55919c1",
   "metadata": {},
   "outputs": [
    {
     "data": {
      "text/plain": [
       "array([[5, 5, 5],\n",
       "       [5, 5, 5],\n",
       "       [5, 5, 5]])"
      ]
     },
     "execution_count": 3,
     "metadata": {},
     "output_type": "execute_result"
    }
   ],
   "source": [
    "#Create a function that takes dimensions as tuples e.g. (3, 3) and a numeric value \n",
    "#and returns a NumPy array of the given dimension filled with the given value e.g.: solve((3, 3), 5)\n",
    "\n",
    "def make_array(shape, num):\n",
    "    \n",
    "    \"\"\"\n",
    "    creates an array of given size filled with given num\n",
    "    shape : tuple: (nrows, ncols)\n",
    "    num: int/float\n",
    "    \n",
    "    return: numpy array\n",
    "    \"\"\"\n",
    "    \n",
    "    array = np.full(shape = shape, fill_value= num)\n",
    "    \n",
    "    return array\n",
    "\n",
    "make_array((3,3), 5)"
   ]
  },
  {
   "cell_type": "code",
   "execution_count": 20,
   "id": "a50184d8",
   "metadata": {},
   "outputs": [
    {
     "data": {
      "text/plain": [
       "array([[12., 11., 10.],\n",
       "       [12., 11., 10.],\n",
       "       [ 9.,  8.,  9.]])"
      ]
     },
     "execution_count": 20,
     "metadata": {},
     "output_type": "execute_result"
    }
   ],
   "source": [
    "# Create a method that takes n NumPy arrays of the same dimensions, sums them and returns the answer\n",
    "def make_addition(*arrays):\n",
    "    \n",
    "    \"\"\"\n",
    "    takes n numpy arrays as input\n",
    "    returns sum\n",
    "    \"\"\"\n",
    "    add = np.zeros((1,1))\n",
    "    result = [add]\n",
    "    \n",
    "    for i, array in enumerate(arrays):\n",
    "        arr = result[i]+ array\n",
    "        result.append(arr)\n",
    "    return result[-1]\n",
    "\n",
    "a1 = np.ones((3,3))\n",
    "a2 = np.full((3,3), 4)\n",
    "a3 = np.array([[2], [3], [1]])\n",
    "a4 = np.array([[3,2,1],\n",
    "              [2,1,0],\n",
    "              [1,0,1]])\n",
    "a5 = np.array([2])\n",
    "\n",
    "make_addition(a1, a2, a3, a4, a5)"
   ]
  },
  {
   "cell_type": "code",
   "execution_count": 30,
   "id": "a9050166",
   "metadata": {},
   "outputs": [
    {
     "data": {
      "text/plain": [
       "array([[1, 2],\n",
       "       [4, 5]])"
      ]
     },
     "execution_count": 30,
     "metadata": {},
     "output_type": "execute_result"
    }
   ],
   "source": [
    "#Given a 2 D Array of N X M Dimension, \n",
    "#write a function that accepts this array as well as two numbers N and M. \n",
    "#The method should return the top-left N X M sub matrix\n",
    "\n",
    "def top_left_sub_matrix(matrix, nrows, ncols):\n",
    "    \"\"\"\n",
    "    takes 2D matrix as input\n",
    "    return top left subset with shape (nrows, ncols)\n",
    "    \"\"\"\n",
    "    return matrix[: nrows, : ncols]\n",
    "\n",
    "M = np.array([\n",
    "[1, 2, 3],\n",
    "[4, 5, 6],\n",
    "[7, 8, 9],\n",
    "])\n",
    "\n",
    "top_left_sub_matrix(M, 2,2)"
   ]
  },
  {
   "cell_type": "code",
   "execution_count": 39,
   "id": "d108fbf7",
   "metadata": {},
   "outputs": [
    {
     "data": {
      "text/plain": [
       "array([[2, 3],\n",
       "       [5, 6],\n",
       "       [8, 9]])"
      ]
     },
     "execution_count": 39,
     "metadata": {},
     "output_type": "execute_result"
    }
   ],
   "source": [
    "#Given a 2 D Array of N X M Dimension, \n",
    "#write a function that accepts this array as well as two numbers N and M. \n",
    "#The method should return the bottom-right N X M sub matrix,\n",
    "\n",
    "def bottom_right_sub_matrix(matrix, nrows, ncols):\n",
    "    \"\"\"\n",
    "    takes 2D matrix as input\n",
    "    return bottom right subset with shape (nrows, ncols)\n",
    "    \"\"\"\n",
    "    return matrix[-nrows :, -ncols :]\n",
    "\n",
    "M = np.array([\n",
    "[1, 2, 3],\n",
    "[4, 5, 6],\n",
    "[7, 8, 9],\n",
    "])\n",
    "\n",
    "bottom_right_sub_matrix(M, 3,2)"
   ]
  },
  {
   "cell_type": "code",
   "execution_count": 42,
   "id": "fd223a4b",
   "metadata": {},
   "outputs": [
    {
     "data": {
      "text/plain": [
       "{'mean': 1.0, 'std_dev': 0.0}"
      ]
     },
     "execution_count": 42,
     "metadata": {},
     "output_type": "execute_result"
    }
   ],
   "source": [
    "# Given a 1 D NumPy Array. Write a function that accepts this array as parameters. \n",
    "# The method should return a dictionary with 'mean' and 'std_dev' as key and array's mean and array's standard deviation as values:\n",
    "\n",
    "def mean_std(arr):\n",
    "    \"\"\"\n",
    "    takes 1D array and returns a dictionary of mean and std_dev\n",
    "    \"\"\"\n",
    "    solution = {'mean' : np.mean(arr),\n",
    "               'std_dev' : np.std(arr)}\n",
    "    \n",
    "    return solution\n",
    "\n",
    "a = [1,1,1]\n",
    "mean_std(a)"
   ]
  },
  {
   "cell_type": "code",
   "execution_count": null,
   "id": "1af24423",
   "metadata": {},
   "outputs": [],
   "source": []
  }
 ],
 "metadata": {
  "kernelspec": {
   "display_name": "Python 3 (ipykernel)",
   "language": "python",
   "name": "python3"
  },
  "language_info": {
   "codemirror_mode": {
    "name": "ipython",
    "version": 3
   },
   "file_extension": ".py",
   "mimetype": "text/x-python",
   "name": "python",
   "nbconvert_exporter": "python",
   "pygments_lexer": "ipython3",
   "version": "3.9.13"
  }
 },
 "nbformat": 4,
 "nbformat_minor": 5
}
