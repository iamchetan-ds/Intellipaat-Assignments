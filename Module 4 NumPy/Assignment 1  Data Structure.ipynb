{
 "cells": [
  {
   "cell_type": "markdown",
   "id": "a8f0b3ff",
   "metadata": {},
   "source": [
    "## Problem Statement:\n",
    "You work in XYZ Corporation as a Data Analyst. Your corporation has told you to\n",
    "work with the structure of the data.\n",
    "\n",
    "### Tasks To Be Performed:\n",
    "1. Create a list named ‘myList’ that has the following elements: 10, 20, 30,‘apple’, True, 8.10:\n",
    "  - Now in the ‘myList’, append these values: 30, 40\n",
    "  - After that, reverse the elements of the ‘myList’ and store that in ‘reversedList’\n",
    "2. Create a dictionary with key values as 1, 2, 3 and the values as ‘data’, ‘information’ and ‘text’:\n",
    "  - After that, eliminate the ‘text’ value from the dictionary\n",
    "  - Add ‘features’ in the dictionary\n",
    "  - Fetch the ‘data’ element from the dictionary and display it in the output\n",
    "3. Create a tuple and add these elements 1, 2, 3, apple, mango in my_tuple.\n",
    "4. Create another tuple named numeric_tuple consisting of only integer values 10, 20, 30, 40, 50:\n",
    "  - Find the minimum value from the numeric_tuple\n",
    "  - Concatenate my_tuple with numeric_tuple and store the result in r1\n",
    "  - Duplicate the tuple named my_tuple 2 times and store that in ‘newdupli’\n",
    "5. Create 2 sets with the names set1 and set2, where set1 contains {1,2,3,4,5} and set2 contains {2,3,7,6,1} Perform the below operation:\n",
    "  - set1 union set2\n",
    "  - set1 intersection set2\n",
    "  - set1 difference set2\n",
    "\n"
   ]
  },
  {
   "cell_type": "code",
   "execution_count": 3,
   "id": "4f80b4c9",
   "metadata": {},
   "outputs": [
    {
     "name": "stdout",
     "output_type": "stream",
     "text": [
      "mylist:  [10, 20, 30, 'apple', True, 8.1, 30, 40]\n",
      "\n",
      "Reversed list:  [40, 30, 8.1, True, 'apple', 30, 20, 10]\n"
     ]
    }
   ],
   "source": [
    "#Create a list named ‘myList’ that has the following elements: 10, 20, 30,‘apple’, True, 8.10:\n",
    "mylist = [10,20,30,'apple',True, 8.10]\n",
    "\n",
    "#Now in the ‘myList’, append these values: 30, 40\n",
    "mylist.append(30)\n",
    "mylist.append(40)\n",
    "\n",
    "#reverse the elements of the ‘myList’ and store that in ‘reversedList’\n",
    "reversedList = mylist[::-1]\n",
    "\n",
    "print('mylist: ', mylist)\n",
    "print('\\nReversed list: ', reversedList)"
   ]
  },
  {
   "cell_type": "code",
   "execution_count": 10,
   "id": "1e50712f",
   "metadata": {},
   "outputs": [
    {
     "data": {
      "text/plain": [
       "{1: 'data', 2: 'information', 3: 'text'}"
      ]
     },
     "execution_count": 10,
     "metadata": {},
     "output_type": "execute_result"
    }
   ],
   "source": [
    "## Create a dictionary with key values as 1, 2, 3 and the values as ‘data’, ‘information’ and ‘text’:\n",
    "\n",
    "mydict={1: 'data',\n",
    "       2: 'information',\n",
    "       3: 'text'} \n",
    "\n",
    "mydict"
   ]
  },
  {
   "cell_type": "code",
   "execution_count": 11,
   "id": "7b43cc90",
   "metadata": {},
   "outputs": [
    {
     "name": "stdout",
     "output_type": "stream",
     "text": [
      "{1: 'data', 2: 'information'}\n"
     ]
    }
   ],
   "source": [
    "# After that, eliminate the ‘text’ value from the dictionary\n",
    "\n",
    "mydict.pop(3)\n",
    "\n",
    "print(mydict)"
   ]
  },
  {
   "cell_type": "code",
   "execution_count": 12,
   "id": "3d2a7ea5",
   "metadata": {},
   "outputs": [
    {
     "name": "stdout",
     "output_type": "stream",
     "text": [
      "{1: 'data', 2: 'information', 3: 'features'}\n"
     ]
    }
   ],
   "source": [
    "#Add ‘features’ in the dictionary\n",
    "mydict[3] = 'features'\n",
    "print(mydict)\n"
   ]
  },
  {
   "cell_type": "code",
   "execution_count": 13,
   "id": "7967f771",
   "metadata": {},
   "outputs": [
    {
     "data": {
      "text/plain": [
       "'data'"
      ]
     },
     "execution_count": 13,
     "metadata": {},
     "output_type": "execute_result"
    }
   ],
   "source": [
    "#Fetch the ‘data’ element from the dictionary and display it in the output\n",
    "mydict.get(1)"
   ]
  },
  {
   "cell_type": "code",
   "execution_count": 14,
   "id": "3d9b6061",
   "metadata": {},
   "outputs": [
    {
     "data": {
      "text/plain": [
       "(1, 2, 3, 'apple', 'mango')"
      ]
     },
     "execution_count": 14,
     "metadata": {},
     "output_type": "execute_result"
    }
   ],
   "source": [
    "#Create a tuple and add these elements 1, 2, 3, apple, mango in my_tuple.\n",
    "my_tuple = (1,2,3, 'apple', 'mango')\n",
    "my_tuple"
   ]
  },
  {
   "cell_type": "code",
   "execution_count": 21,
   "id": "17a16f91",
   "metadata": {},
   "outputs": [
    {
     "name": "stdout",
     "output_type": "stream",
     "text": [
      "My Tuple:  (1, 2, 3, 'apple', 'mango')\n",
      "Numeric Tuple:  (10, 20, 30, 40, 50)\n",
      "Minimum Value:  10\n",
      "Concatenated Tuple:  (1, 2, 3, 'apple', 'mango', 10, 20, 30, 40, 50)\n",
      "Duplicated Tuple:  (1, 2, 3, 'apple', 'mango', 1, 2, 3, 'apple', 'mango')\n"
     ]
    }
   ],
   "source": [
    "##Create another tuple named numeric_tuple consisting of only integer values 10, 20, 30, 40, 50:\n",
    "numeric_tuple = (10,20,30,40,50)\n",
    "print('My Tuple: ', my_tuple)\n",
    "print('Numeric Tuple: ', numeric_tuple)\n",
    "#Find the minimum value from the numeric_tuple\n",
    "print('Minimum Value: ',min(numeric_tuple))\n",
    "#Concatenate my_tuple with numeric_tuple and store the result in r1\n",
    "r1 = my_tuple + numeric_tuple\n",
    "print('Concatenated Tuple: ', r1)\n",
    "#Duplicate the tuple named my_tuple 2 times and store that in ‘newdupli\n",
    "newdupli = my_tuple*2\n",
    "print('Duplicated Tuple: ', newdupli)"
   ]
  },
  {
   "cell_type": "code",
   "execution_count": 26,
   "id": "7785c863",
   "metadata": {},
   "outputs": [
    {
     "name": "stdout",
     "output_type": "stream",
     "text": [
      "Set 1:  {1, 2, 3, 4, 5}\n",
      "Set 2:  {1, 2, 3, 6, 7}\n",
      "Set1 union Set2:  {1, 2, 3, 4, 5, 6, 7}\n",
      "Set1 intersection Set2:  {1, 2, 3}\n",
      "Set1 difference Set2:  {4, 5}\n"
     ]
    }
   ],
   "source": [
    "##Create 2 sets with the names set1 and set2, where set1 contains {1,2,3,4,5} and set2 contains {2,3,7,6,1} Perform the below operation:\n",
    "set1 = {1,2,3,4,5}\n",
    "set2 = {2,3,7,6,1}\n",
    "\n",
    "print('Set 1: ', set1)\n",
    "print('Set 2: ', set2)\n",
    "\n",
    "#set1 union set2\n",
    "union = set1.union(set2)\n",
    "print('Set1 union Set2: ', union)\n",
    "\n",
    "#set1 intersection set2\n",
    "intersection = set1.intersection(set2)\n",
    "print('Set1 intersection Set2: ', intersection)\n",
    "\n",
    "#set1 difference set2\n",
    "diff = set1.difference(set2)\n",
    "print('Set1 difference Set2: ', diff)"
   ]
  },
  {
   "cell_type": "code",
   "execution_count": null,
   "id": "ade3a5ea",
   "metadata": {},
   "outputs": [],
   "source": []
  }
 ],
 "metadata": {
  "kernelspec": {
   "display_name": "Python 3 (ipykernel)",
   "language": "python",
   "name": "python3"
  },
  "language_info": {
   "codemirror_mode": {
    "name": "ipython",
    "version": 3
   },
   "file_extension": ".py",
   "mimetype": "text/x-python",
   "name": "python",
   "nbconvert_exporter": "python",
   "pygments_lexer": "ipython3",
   "version": "3.9.13"
  }
 },
 "nbformat": 4,
 "nbformat_minor": 5
}
